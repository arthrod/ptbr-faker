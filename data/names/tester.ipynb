{
 "cells": [
  {
   "cell_type": "code",
   "execution_count": null,
   "metadata": {},
   "outputs": [],
   "source": [
    "import requests\n",
    "import time\n",
    "from random import randint\n",
    "\n",
    "# Constants\n",
    "ESTADOS = [\"AC\",\"AL\",\"AP\",\"AM\",\"BA\",\"CE\",\"DF\",\"ES\",\"GO\",\"MA\",\"MT\",\"MS\",\"MG\",\"PA\",\"PB\",\"PR\",\"PE\",\"PI\",\"RJ\",\"RN\",\"RS\",\"RO\",\"RR\",\"SC\",\"SP\",\"SE\",\"TO\"]\n",
    "HEADERS = {\n",
    "   'User-Agent': 'Mozilla/5.0 (Windows NT 10.0; Win64; x64) Chrome/120.0.0.0',\n",
    "   'Accept': 'application/json',\n",
    "   'Origin': 'https://transparencia.registrocivil.org.br',\n",
    "   'Referer': 'https://transparencia.registrocivil.org.br/'\n",
    "}\n",
    "import requests\n",
    "import json\n",
    "from random import randint\n",
    "import time\n",
    "\n",
    "ESTADOS = [\"AC\",\"AL\",\"AP\",\"AM\",\"BA\",\"CE\",\"DF\",\"ES\",\"GO\",\"MA\",\"MT\",\"MS\",\"MG\",\"PA\",\"PB\",\"PR\",\"PE\",\"PI\",\"RJ\",\"RN\",\"RS\",\"RO\",\"RR\",\"SC\",\"SP\",\"SE\",\"TO\"]\n",
    "HEADERS = {\n",
    "   'User-Agent': 'Mozilla/5.0 (Windows NT 10.0; Win64; x64) Chrome/120.0.0.0',\n",
    "   'Accept': 'application/json',\n",
    "   'Origin': 'https://transparencia.registrocivil.org.br',\n",
    "   'Referer': 'https://transparencia.registrocivil.org.br/'\n",
    "}\n",
    "\n",
    "def get_state_data(state):\n",
    "   url = f\"https://transparencia.registrocivil.org.br/api/record/all-name?start_date=2024-01-01&end_date=2024-12-31&translate=1&state={state}\"\n",
    "   \n",
    "   response = requests.get(url, headers=HEADERS)\n",
    "   if response.status_code == 200:\n",
    "       data = response.json()\n",
    "       print(f\"\\n=== {state} ===\")\n",
    "       print(json.dumps(data, indent=2))\n",
    "   else:\n",
    "       print(f\"{state}: Error {response.status_code}\")\n",
    "   time.sleep(randint(1,3))\n",
    "\n",
    "for state in ESTADOS:\n",
    "   get_state_data(state)"
   ]
  }
 ],
 "metadata": {
  "language_info": {
   "name": "python"
  }
 },
 "nbformat": 4,
 "nbformat_minor": 2
}
